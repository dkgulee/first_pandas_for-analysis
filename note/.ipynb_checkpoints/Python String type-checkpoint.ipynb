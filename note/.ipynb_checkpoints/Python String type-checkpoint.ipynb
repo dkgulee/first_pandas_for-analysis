{
 "cells": [
  {
   "cell_type": "markdown",
   "metadata": {},
   "source": [
    "# 문자열 다루기\n",
    "### 문자열은 작은따옴표나 큰따옴표로 감싸서 만듬\n",
    "### 문자열도 데이이터프레임 ,시리즈, 리스트 등과 같이 인덱스로 접근이 가능하다"
   ]
  },
  {
   "cell_type": "code",
   "execution_count": 2,
   "metadata": {},
   "outputs": [
    {
     "name": "stdout",
     "output_type": "stream",
     "text": [
      "g\n",
      "a\n",
      "gra\n",
      "h\n",
      "a s\n",
      "a\n"
     ]
    }
   ],
   "source": [
    "word = 'grail'\n",
    "sent = 'a scratch'\n",
    "print(word[0])\n",
    "print(sent[0])\n",
    "print(word[0:3])\n",
    "print(sent[-1])\n",
    "print(sent[-9:-6])\n",
    "print(sent[0:-8])\n"
   ]
  },
  {
   "cell_type": "markdown",
   "metadata": {},
   "source": [
    "### 전체 문자열을 추출할 떄 음수를 사용하면 x"
   ]
  },
  {
   "cell_type": "code",
   "execution_count": 6,
   "metadata": {},
   "outputs": [
    {
     "name": "stdout",
     "output_type": "stream",
     "text": [
      "scratc\n",
      "scratch\n"
     ]
    }
   ],
   "source": [
    "print(sent[2:-1])\n",
    "print(sent[2:len(sent)])"
   ]
  },
  {
   "cell_type": "markdown",
   "metadata": {},
   "source": [
    "## 왼쪽이나 오른쪽 범위를 지정하지 않고 문자열 추출하기"
   ]
  },
  {
   "cell_type": "code",
   "execution_count": 8,
   "metadata": {},
   "outputs": [
    {
     "name": "stdout",
     "output_type": "stream",
     "text": [
      "gra\n",
      "gra\n",
      "scratch\n",
      "scratch\n",
      "a scratch\n",
      "a scratch\n"
     ]
    }
   ],
   "source": [
    "print(word[0:3])\n",
    "print(word[:3])\n",
    "print(sent[2:len(sent)])\n",
    "print(sent[2:])\n",
    "print(sent[:])\n",
    "print(sent[::])"
   ]
  },
  {
   "cell_type": "markdown",
   "metadata": {},
   "source": [
    "## 문자열 메서드"
   ]
  },
  {
   "cell_type": "code",
   "execution_count": 15,
   "metadata": {},
   "outputs": [
    {
     "data": {
      "text/html": [
       "<div>\n",
       "<style scoped>\n",
       "    .dataframe tbody tr th:only-of-type {\n",
       "        vertical-align: middle;\n",
       "    }\n",
       "\n",
       "    .dataframe tbody tr th {\n",
       "        vertical-align: top;\n",
       "    }\n",
       "\n",
       "    .dataframe thead th {\n",
       "        text-align: right;\n",
       "    }\n",
       "</style>\n",
       "<table border=\"1\" class=\"dataframe\">\n",
       "  <thead>\n",
       "    <tr style=\"text-align: right;\">\n",
       "      <th></th>\n",
       "      <th>method</th>\n",
       "      <th>content</th>\n",
       "    </tr>\n",
       "  </thead>\n",
       "  <tbody>\n",
       "    <tr>\n",
       "      <td>0</td>\n",
       "      <td>capitalize</td>\n",
       "      <td>첫 문자를 대문자로 변환</td>\n",
       "    </tr>\n",
       "    <tr>\n",
       "      <td>1</td>\n",
       "      <td>count</td>\n",
       "      <td>문자열의 개수를 반환</td>\n",
       "    </tr>\n",
       "    <tr>\n",
       "      <td>2</td>\n",
       "      <td>startswith</td>\n",
       "      <td>문자열이 특정 문자로 시작하면 참이된다</td>\n",
       "    </tr>\n",
       "    <tr>\n",
       "      <td>3</td>\n",
       "      <td>endswith</td>\n",
       "      <td>문자열이 특정 문자로 끝나면 참</td>\n",
       "    </tr>\n",
       "    <tr>\n",
       "      <td>4</td>\n",
       "      <td>find</td>\n",
       "      <td>찾을 문자열의 첫 번쨰 인덱스를 반환한다. 실패시 -1을 반환함</td>\n",
       "    </tr>\n",
       "    <tr>\n",
       "      <td>5</td>\n",
       "      <td>index</td>\n",
       "      <td>find 메서드와 같은 기능 실패시 ValueError를 반환</td>\n",
       "    </tr>\n",
       "    <tr>\n",
       "      <td>6</td>\n",
       "      <td>isalpha</td>\n",
       "      <td>모든 문자가 알파벳이면 참</td>\n",
       "    </tr>\n",
       "    <tr>\n",
       "      <td>7</td>\n",
       "      <td>isdecimal</td>\n",
       "      <td>모든 문자가 숫자면 참</td>\n",
       "    </tr>\n",
       "    <tr>\n",
       "      <td>8</td>\n",
       "      <td>isalnum</td>\n",
       "      <td>모든 문자가 알파벳이거나 숫자면 참</td>\n",
       "    </tr>\n",
       "    <tr>\n",
       "      <td>9</td>\n",
       "      <td>lower</td>\n",
       "      <td>모든 문자를 소문자로 반환</td>\n",
       "    </tr>\n",
       "    <tr>\n",
       "      <td>10</td>\n",
       "      <td>upper</td>\n",
       "      <td>모든 문자를 대문자로 반환</td>\n",
       "    </tr>\n",
       "    <tr>\n",
       "      <td>11</td>\n",
       "      <td>replace</td>\n",
       "      <td>문자열의 문자를 다른문자로 교체</td>\n",
       "    </tr>\n",
       "    <tr>\n",
       "      <td>12</td>\n",
       "      <td>strip</td>\n",
       "      <td>문자열의 맨 앞과 뒤에 있는 빈 칸을 제거한다.</td>\n",
       "    </tr>\n",
       "    <tr>\n",
       "      <td>13</td>\n",
       "      <td>split</td>\n",
       "      <td>구분자를 지정하여 문자열을 나누고, 나눈 값들의 리스트를 반환</td>\n",
       "    </tr>\n",
       "    <tr>\n",
       "      <td>14</td>\n",
       "      <td>partition</td>\n",
       "      <td>split 메서드와 비슷한 역할을 수행 하지만 구분자도 반환</td>\n",
       "    </tr>\n",
       "    <tr>\n",
       "      <td>15</td>\n",
       "      <td>center</td>\n",
       "      <td>지정한 너비 문자열을 늘이고 문자열을 가운데로 정렬한다</td>\n",
       "    </tr>\n",
       "    <tr>\n",
       "      <td>16</td>\n",
       "      <td>zfill</td>\n",
       "      <td>문자열의 빈칸을 0으로 채운다.</td>\n",
       "    </tr>\n",
       "  </tbody>\n",
       "</table>\n",
       "</div>"
      ],
      "text/plain": [
       "        method                              content\n",
       "0   capitalize                        첫 문자를 대문자로 변환\n",
       "1        count                          문자열의 개수를 반환\n",
       "2   startswith                문자열이 특정 문자로 시작하면 참이된다\n",
       "3     endswith                    문자열이 특정 문자로 끝나면 참\n",
       "4         find  찾을 문자열의 첫 번쨰 인덱스를 반환한다. 실패시 -1을 반환함\n",
       "5        index   find 메서드와 같은 기능 실패시 ValueError를 반환\n",
       "6      isalpha                       모든 문자가 알파벳이면 참\n",
       "7    isdecimal                         모든 문자가 숫자면 참\n",
       "8      isalnum                  모든 문자가 알파벳이거나 숫자면 참\n",
       "9        lower                       모든 문자를 소문자로 반환\n",
       "10       upper                       모든 문자를 대문자로 반환\n",
       "11     replace                    문자열의 문자를 다른문자로 교체\n",
       "12       strip           문자열의 맨 앞과 뒤에 있는 빈 칸을 제거한다.\n",
       "13       split   구분자를 지정하여 문자열을 나누고, 나눈 값들의 리스트를 반환\n",
       "14   partition    split 메서드와 비슷한 역할을 수행 하지만 구분자도 반환\n",
       "15      center       지정한 너비 문자열을 늘이고 문자열을 가운데로 정렬한다\n",
       "16       zfill                    문자열의 빈칸을 0으로 채운다."
      ]
     },
     "execution_count": 15,
     "metadata": {},
     "output_type": "execute_result"
    }
   ],
   "source": [
    "import pandas as pd\n",
    "string_type = pd.DataFrame({\n",
    "    'method': ['capitalize', 'count', 'startswith', 'endswith', 'find', 'index', 'isalpha', 'isdecimal', 'isalnum', 'lower', 'upper', 'replace', 'strip', 'split', 'partition', 'center', 'zfill'],\n",
    "    'content':['첫 문자를 대문자로 변환', '문자열의 개수를 반환', '문자열이 특정 문자로 시작하면 참이된다', '문자열이 특정 문자로 끝나면 참', '찾을 문자열의 첫 번쨰 인덱스를 반환한다. 실패시 -1을 반환함',\n",
    "              'find 메서드와 같은 기능 실패시 ValueError를 반환', '모든 문자가 알파벳이면 참','모든 문자가 숫자면 참' ,'모든 문자가 알파벳이거나 숫자면 참', '모든 문자를 소문자로 반환', '모든 문자를 대문자로 반환', '문자열의 문자를 다른문자로 교체',\n",
    "              '문자열의 맨 앞과 뒤에 있는 빈 칸을 제거한다.', '구분자를 지정하여 문자열을 나누고, 나눈 값들의 리스트를 반환', 'split 메서드와 비슷한 역할을 수행 하지만 구분자도 반환',\n",
    "               '지정한 너비 문자열을 늘이고 문자열을 가운데로 정렬한다', '문자열의 빈칸을 0으로 채운다.']\n",
    "})\n",
    "\n",
    "string_type"
   ]
  },
  {
   "cell_type": "code",
   "execution_count": 32,
   "metadata": {},
   "outputs": [
    {
     "data": {
      "text/html": [
       "<div>\n",
       "<style scoped>\n",
       "    .dataframe tbody tr th:only-of-type {\n",
       "        vertical-align: middle;\n",
       "    }\n",
       "\n",
       "    .dataframe tbody tr th {\n",
       "        vertical-align: top;\n",
       "    }\n",
       "\n",
       "    .dataframe thead th {\n",
       "        text-align: right;\n",
       "    }\n",
       "</style>\n",
       "<table border=\"1\" class=\"dataframe\">\n",
       "  <thead>\n",
       "    <tr style=\"text-align: right;\">\n",
       "      <th></th>\n",
       "      <th>method</th>\n",
       "      <th>content</th>\n",
       "    </tr>\n",
       "  </thead>\n",
       "  <tbody>\n",
       "    <tr>\n",
       "      <td>0</td>\n",
       "      <td>capitalize</td>\n",
       "      <td>첫 문자를 대문자로 변환</td>\n",
       "    </tr>\n",
       "    <tr>\n",
       "      <td>1</td>\n",
       "      <td>count</td>\n",
       "      <td>문자열의 개수를 반환</td>\n",
       "    </tr>\n",
       "    <tr>\n",
       "      <td>2</td>\n",
       "      <td>startswith</td>\n",
       "      <td>문자열이 특정 문자로 시작하면 참이된다</td>\n",
       "    </tr>\n",
       "    <tr>\n",
       "      <td>3</td>\n",
       "      <td>endswith</td>\n",
       "      <td>문자열이 특정 문자로 끝나면 참</td>\n",
       "    </tr>\n",
       "    <tr>\n",
       "      <td>4</td>\n",
       "      <td>find</td>\n",
       "      <td>찾을 문자열의 첫 번쨰 인덱스를 반환한다. 실패시 -1을 반환함</td>\n",
       "    </tr>\n",
       "    <tr>\n",
       "      <td>5</td>\n",
       "      <td>index</td>\n",
       "      <td>find 메서드와 같은 기능 실패시 ValueError를 반환</td>\n",
       "    </tr>\n",
       "    <tr>\n",
       "      <td>6</td>\n",
       "      <td>isalpha</td>\n",
       "      <td>모든 문자가 알파벳이면 참</td>\n",
       "    </tr>\n",
       "    <tr>\n",
       "      <td>7</td>\n",
       "      <td>isdecimal</td>\n",
       "      <td>모든 문자가 숫자면 참</td>\n",
       "    </tr>\n",
       "    <tr>\n",
       "      <td>8</td>\n",
       "      <td>isalnum</td>\n",
       "      <td>모든 문자가 알파벳이거나 숫자면 참</td>\n",
       "    </tr>\n",
       "    <tr>\n",
       "      <td>9</td>\n",
       "      <td>lower</td>\n",
       "      <td>모든 문자를 소문자로 반환</td>\n",
       "    </tr>\n",
       "    <tr>\n",
       "      <td>10</td>\n",
       "      <td>upper</td>\n",
       "      <td>모든 문자를 대문자로 반환</td>\n",
       "    </tr>\n",
       "    <tr>\n",
       "      <td>11</td>\n",
       "      <td>replace</td>\n",
       "      <td>문자열의 문자를 다른문자로 교체</td>\n",
       "    </tr>\n",
       "    <tr>\n",
       "      <td>12</td>\n",
       "      <td>strip</td>\n",
       "      <td>문자열의 맨 앞과 뒤에 있는 빈 칸을 제거한다.</td>\n",
       "    </tr>\n",
       "    <tr>\n",
       "      <td>13</td>\n",
       "      <td>split</td>\n",
       "      <td>구분자를 지정하여 문자열을 나누고, 나눈 값들의 리스트를 반환</td>\n",
       "    </tr>\n",
       "    <tr>\n",
       "      <td>14</td>\n",
       "      <td>partition</td>\n",
       "      <td>split 메서드와 비슷한 역할을 수행 하지만 구분자도 반환</td>\n",
       "    </tr>\n",
       "    <tr>\n",
       "      <td>15</td>\n",
       "      <td>center</td>\n",
       "      <td>지정한 너비 문자열을 늘이고 문자열을 가운데로 정렬한다</td>\n",
       "    </tr>\n",
       "    <tr>\n",
       "      <td>16</td>\n",
       "      <td>zfill</td>\n",
       "      <td>문자열의 빈칸을 0으로 채운다.</td>\n",
       "    </tr>\n",
       "  </tbody>\n",
       "</table>\n",
       "</div>"
      ],
      "text/plain": [
       "        method                              content\n",
       "0   capitalize                        첫 문자를 대문자로 변환\n",
       "1        count                          문자열의 개수를 반환\n",
       "2   startswith                문자열이 특정 문자로 시작하면 참이된다\n",
       "3     endswith                    문자열이 특정 문자로 끝나면 참\n",
       "4         find  찾을 문자열의 첫 번쨰 인덱스를 반환한다. 실패시 -1을 반환함\n",
       "5        index   find 메서드와 같은 기능 실패시 ValueError를 반환\n",
       "6      isalpha                       모든 문자가 알파벳이면 참\n",
       "7    isdecimal                         모든 문자가 숫자면 참\n",
       "8      isalnum                  모든 문자가 알파벳이거나 숫자면 참\n",
       "9        lower                       모든 문자를 소문자로 반환\n",
       "10       upper                       모든 문자를 대문자로 반환\n",
       "11     replace                    문자열의 문자를 다른문자로 교체\n",
       "12       strip           문자열의 맨 앞과 뒤에 있는 빈 칸을 제거한다.\n",
       "13       split   구분자를 지정하여 문자열을 나누고, 나눈 값들의 리스트를 반환\n",
       "14   partition    split 메서드와 비슷한 역할을 수행 하지만 구분자도 반환\n",
       "15      center       지정한 너비 문자열을 늘이고 문자열을 가운데로 정렬한다\n",
       "16       zfill                    문자열의 빈칸을 0으로 채운다."
      ]
     },
     "execution_count": 32,
     "metadata": {},
     "output_type": "execute_result"
    }
   ],
   "source": [
    "string_type.drop(['capitalize'] , axis=1)"
   ]
  },
  {
   "cell_type": "code",
   "execution_count": 43,
   "metadata": {},
   "outputs": [],
   "source": [
    "string_type.loc[[0],['content']] = '첫 문자를 대문자로 변환한합니다'"
   ]
  },
  {
   "cell_type": "code",
   "execution_count": 48,
   "metadata": {},
   "outputs": [
    {
     "data": {
      "text/html": [
       "<div>\n",
       "<style scoped>\n",
       "    .dataframe tbody tr th:only-of-type {\n",
       "        vertical-align: middle;\n",
       "    }\n",
       "\n",
       "    .dataframe tbody tr th {\n",
       "        vertical-align: top;\n",
       "    }\n",
       "\n",
       "    .dataframe thead th {\n",
       "        text-align: right;\n",
       "    }\n",
       "</style>\n",
       "<table border=\"1\" class=\"dataframe\">\n",
       "  <thead>\n",
       "    <tr style=\"text-align: right;\">\n",
       "      <th></th>\n",
       "      <th>method</th>\n",
       "      <th>content</th>\n",
       "    </tr>\n",
       "  </thead>\n",
       "  <tbody>\n",
       "    <tr>\n",
       "      <td>0</td>\n",
       "      <td>capitalize</td>\n",
       "      <td>첫 문자를 대문자로 변환한합니다</td>\n",
       "    </tr>\n",
       "    <tr>\n",
       "      <td>1</td>\n",
       "      <td>count</td>\n",
       "      <td>문자열의 개수를 반환</td>\n",
       "    </tr>\n",
       "    <tr>\n",
       "      <td>2</td>\n",
       "      <td>startswith</td>\n",
       "      <td>문자열이 특정 문자로 시작하면 참이된다</td>\n",
       "    </tr>\n",
       "    <tr>\n",
       "      <td>3</td>\n",
       "      <td>endswith</td>\n",
       "      <td>문자열이 특정 문자로 끝나면 참</td>\n",
       "    </tr>\n",
       "    <tr>\n",
       "      <td>4</td>\n",
       "      <td>find</td>\n",
       "      <td>찾을 문자열의 첫 번쨰 인덱스를 반환한다. 실패시 -1을 반환함</td>\n",
       "    </tr>\n",
       "    <tr>\n",
       "      <td>5</td>\n",
       "      <td>index</td>\n",
       "      <td>find 메서드와 같은 기능 실패시 ValueError를 반환</td>\n",
       "    </tr>\n",
       "    <tr>\n",
       "      <td>6</td>\n",
       "      <td>isalpha</td>\n",
       "      <td>모든 문자가 알파벳이면 참</td>\n",
       "    </tr>\n",
       "    <tr>\n",
       "      <td>7</td>\n",
       "      <td>isdecimal</td>\n",
       "      <td>모든 문자가 숫자면 참</td>\n",
       "    </tr>\n",
       "    <tr>\n",
       "      <td>8</td>\n",
       "      <td>isalnum</td>\n",
       "      <td>모든 문자가 알파벳이거나 숫자면 참</td>\n",
       "    </tr>\n",
       "    <tr>\n",
       "      <td>9</td>\n",
       "      <td>lower</td>\n",
       "      <td>모든 문자를 소문자로 반환</td>\n",
       "    </tr>\n",
       "    <tr>\n",
       "      <td>10</td>\n",
       "      <td>upper</td>\n",
       "      <td>모든 문자를 대문자로 반환</td>\n",
       "    </tr>\n",
       "    <tr>\n",
       "      <td>11</td>\n",
       "      <td>replace</td>\n",
       "      <td>문자열의 문자를 다른문자로 교체</td>\n",
       "    </tr>\n",
       "    <tr>\n",
       "      <td>12</td>\n",
       "      <td>strip</td>\n",
       "      <td>문자열의 맨 앞과 뒤에 있는 빈 칸을 제거한다.</td>\n",
       "    </tr>\n",
       "    <tr>\n",
       "      <td>13</td>\n",
       "      <td>split</td>\n",
       "      <td>구분자를 지정하여 문자열을 나누고, 나눈 값들의 리스트를 반환</td>\n",
       "    </tr>\n",
       "    <tr>\n",
       "      <td>14</td>\n",
       "      <td>partition</td>\n",
       "      <td>split 메서드와 비슷한 역할을 수행 하지만 구분자도 반환</td>\n",
       "    </tr>\n",
       "    <tr>\n",
       "      <td>15</td>\n",
       "      <td>center</td>\n",
       "      <td>지정한 너비 문자열을 늘이고 문자열을 가운데로 정렬한다</td>\n",
       "    </tr>\n",
       "    <tr>\n",
       "      <td>16</td>\n",
       "      <td>zfill</td>\n",
       "      <td>문자열의 빈칸을 0으로 채운다.</td>\n",
       "    </tr>\n",
       "  </tbody>\n",
       "</table>\n",
       "</div>"
      ],
      "text/plain": [
       "        method                              content\n",
       "0   capitalize                    첫 문자를 대문자로 변환한합니다\n",
       "1        count                          문자열의 개수를 반환\n",
       "2   startswith                문자열이 특정 문자로 시작하면 참이된다\n",
       "3     endswith                    문자열이 특정 문자로 끝나면 참\n",
       "4         find  찾을 문자열의 첫 번쨰 인덱스를 반환한다. 실패시 -1을 반환함\n",
       "5        index   find 메서드와 같은 기능 실패시 ValueError를 반환\n",
       "6      isalpha                       모든 문자가 알파벳이면 참\n",
       "7    isdecimal                         모든 문자가 숫자면 참\n",
       "8      isalnum                  모든 문자가 알파벳이거나 숫자면 참\n",
       "9        lower                       모든 문자를 소문자로 반환\n",
       "10       upper                       모든 문자를 대문자로 반환\n",
       "11     replace                    문자열의 문자를 다른문자로 교체\n",
       "12       strip           문자열의 맨 앞과 뒤에 있는 빈 칸을 제거한다.\n",
       "13       split   구분자를 지정하여 문자열을 나누고, 나눈 값들의 리스트를 반환\n",
       "14   partition    split 메서드와 비슷한 역할을 수행 하지만 구분자도 반환\n",
       "15      center       지정한 너비 문자열을 늘이고 문자열을 가운데로 정렬한다\n",
       "16       zfill                    문자열의 빈칸을 0으로 채운다."
      ]
     },
     "execution_count": 48,
     "metadata": {},
     "output_type": "execute_result"
    }
   ],
   "source": [
    "string_type"
   ]
  },
  {
   "cell_type": "code",
   "execution_count": 84,
   "metadata": {},
   "outputs": [
    {
     "name": "stdout",
     "output_type": "stream",
     "text": [
      "Black knight\n",
      "2\n",
      "True\n",
      "6\n",
      "1\n",
      "False\n",
      "True\n",
      "False\n",
      "True\n",
      "False\n",
      "True\n",
      "Black Knight\n",
      "BLACK KNIGHT\n",
      "black knight\n",
      "black Knight\n",
      "['black', 'Knight']\n",
      "['N1!', 'N1!', 'N1!', 'N1!']\n",
      "   koko   \n"
     ]
    },
    {
     "data": {
      "text/plain": [
       "'0000000009'"
      ]
     },
     "execution_count": 84,
     "metadata": {},
     "output_type": "execute_result"
    }
   ],
   "source": [
    "print(\"black Knight\".capitalize())\n",
    "print(\"It's just a flesh wound!\".count('u'))\n",
    "print('Halt! who goes there?'.startswith('Halt'))\n",
    "print(\"It's just a flesh wound!\".find('u'))\n",
    "print(\"black Knight\".index('l'))\n",
    "print(\"black Knight\".isalpha())\n",
    "print(\"blackKnight\".isalpha())\n",
    "print(\"adasdasdasda\".isdecimal())\n",
    "print(\"12312312312\".isdecimal())\n",
    "print(\"black Knight\".isalnum())\n",
    "print(\"black12121Knight\".isalnum())\n",
    "print(\"black Knight\".replace('b','B'))\n",
    "print(\"black Knight\".upper())\n",
    "print(\"black Knight\".lower())\n",
    "print(\"                      black Knight           \".strip())\n",
    "print(\"black Knight\".split())\n",
    "print(\"N1! N1! N1! N1!\".split(sep=' '))\n",
    "print(\"koko\".center(10))\n",
    "\"9\".zfill(10)"
   ]
  },
  {
   "cell_type": "markdown",
   "metadata": {},
   "source": [
    "## join,splitlines, replace method\n",
    "\n",
    "### join method -> 무자열을 연결해서 새로운 문자열을 반환하는 메서드"
   ]
  },
  {
   "cell_type": "code",
   "execution_count": 86,
   "metadata": {},
   "outputs": [
    {
     "name": "stdout",
     "output_type": "stream",
     "text": [
      "4046.52.837N\n"
     ]
    }
   ],
   "source": [
    "d1 = '40'\n",
    "m1 = '46.'\n",
    "s1 = '52.837'\n",
    "u1 = 'N'\n",
    "cords = ''.join([d1, m1, s1, u1])\n",
    "print(cords)"
   ]
  },
  {
   "cell_type": "markdown",
   "metadata": {},
   "source": [
    "### splitlines 메서드는 여러 행을 가진 문자열을 분리한 다음 리스트로 반환"
   ]
  },
  {
   "cell_type": "code",
   "execution_count": 87,
   "metadata": {},
   "outputs": [],
   "source": [
    "multi_str = \"\"\"Yeah, ha\n",
    "Yeah, ha\n",
    "Yeah, ha\n",
    "Yeah, ha\n",
    "Yeah, ha\n",
    "Yeah, ha\n",
    "\n",
    "\n",
    "모두 그에게 말해 또 왔네 (새꺄 whut?)\n",
    "죽지 않고 왔다 이렇게 (새꺄 뭐?)\n",
    "Snacky chan의 라인을 빌릴래\n",
    "했어 예수처럼 이렇게 부활을\n",
    "031 팔 안쪽의 tatt freaky woah\n",
    "어젠 시장님이 만나쟤 motown\n",
    "어수룩해 엄마 속에 걱정\n",
    "한 톤만큼 쌓고 스물한살에 독립했던 얘는\n",
    "여섯이 되었고\n",
    "발견했지 우연히 5년 전의 노트\n",
    "“정말 스타 되고 싶어\n",
    "그럴려면 가서 만나면 돼 악마?”\n",
    "노트를 덮고\n",
    "거울에 비춰진 남자를 보니 와\n",
    "저 손목이 너무 부러워\n",
    "저 금 daydate rollie 넘을걸 천백은 더\n",
    "\n",
    "\n",
    "전국\n",
    "사람들이 외치네\n",
    "저 괴물체는 뭘까?\n",
    "Meteor\n",
    "거대 Meteor\n",
    "난 네게 처박힐 Meteor야\n",
    "\n",
    "별빛이 내려오지 마구\n",
    "내려오지\n",
    "경고\n",
    "경고\n",
    "그래도 처박힐 Meteor야\n",
    "\n",
    "\n",
    "motown의 1번 노랠 기억해 니들?\n",
    "뭐였지? 뭐였나? 음 음?\n",
    "i’m the man in the mirror 그러니 light me up\n",
    "1절의 그 별이 2절의 그 별이\n",
    "그래 모두 나였지 실화가 된 동화이지\n",
    "힘들 때면 홀로 쓴 노래를 불러\n",
    "환상들을 보던 성냥팔이 소년이였던 나날들이\n",
    "365, 24, 730, 24에 7\n",
    "1095 아 그만 세자 1400이 되니 oh\n",
    "그 애랑도 하고 돔페리뇽이 만든\n",
    "숙취 땜에 넋을 놓은 나를 향해\n",
    "몇천 명이 ‘와’ 해\n",
    "본 적은 없지만 때론\n",
    "어떤 존재가 내 인생을 왔다 간 듯해\n",
    "그냥 그런 느낌이 들지\n",
    "상관없어 환상이던 현실이던지 hands up high\n",
    "\n",
    "\n",
    "전국\n",
    "사람들이 외치네\n",
    "저 괴물체는 뭘까?\n",
    "Meteor\n",
    "거대 Meteor\n",
    "난 네게 처박힐 Meteor야\n",
    "\n",
    "별빛이 내려오지 마구\n",
    "내려오지\n",
    "경고\n",
    "경고\n",
    "그래도 처박힐 Meteor야\n",
    "\n",
    "\n",
    "영 영 영원히\n",
    "약속해 영원하기로\n",
    "어둠 가득한 저 뒤로\n",
    "돌려보내지 말아요 제발 제발\n",
    "영 영 영원히\n",
    "난 영원할 거라 믿어\n",
    "흥분으로 가득차\n",
    "이 도시에 나 외칠 꺼야\n",
    "“드디어 내가 여 왔다”\"\"\""
   ]
  },
  {
   "cell_type": "code",
   "execution_count": 89,
   "metadata": {},
   "outputs": [
    {
     "name": "stdout",
     "output_type": "stream",
     "text": [
      "['Yeah, ha', 'Yeah, ha', 'Yeah, ha', 'Yeah, ha', 'Yeah, ha', 'Yeah, ha', '', '', '모두 그에게 말해 또 왔네 (새꺄 whut?)', '죽지 않고 왔다 이렇게 (새꺄 뭐?)', 'Snacky chan의 라인을 빌릴래', '했어 예수처럼 이렇게 부활을', '031 팔 안쪽의 tatt freaky woah', '어젠 시장님이 만나쟤 motown', '어수룩해 엄마 속에 걱정', '한 톤만큼 쌓고 스물한살에 독립했던 얘는', '여섯이 되었고', '발견했지 우연히 5년 전의 노트', '“정말 스타 되고 싶어', '그럴려면 가서 만나면 돼 악마?”', '노트를 덮고', '거울에 비춰진 남자를 보니 와', '저 손목이 너무 부러워', '저 금 daydate rollie 넘을걸 천백은 더', '', '', '전국', '사람들이 외치네', '저 괴물체는 뭘까?', 'Meteor', '거대 Meteor', '난 네게 처박힐 Meteor야', '', '별빛이 내려오지 마구', '내려오지', '경고', '경고', '그래도 처박힐 Meteor야', '', '', 'motown의 1번 노랠 기억해 니들?', '뭐였지? 뭐였나? 음 음?', 'i’m the man in the mirror 그러니 light me up', '1절의 그 별이 2절의 그 별이', '그래 모두 나였지 실화가 된 동화이지', '힘들 때면 홀로 쓴 노래를 불러', '환상들을 보던 성냥팔이 소년이였던 나날들이', '365, 24, 730, 24에 7', '1095 아 그만 세자 1400이 되니 oh', '그 애랑도 하고 돔페리뇽이 만든', '숙취 땜에 넋을 놓은 나를 향해', '몇천 명이 ‘와’ 해', '본 적은 없지만 때론', '어떤 존재가 내 인생을 왔다 간 듯해', '그냥 그런 느낌이 들지', '상관없어 환상이던 현실이던지 hands up high', '', '', '전국', '사람들이 외치네', '저 괴물체는 뭘까?', 'Meteor', '거대 Meteor', '난 네게 처박힐 Meteor야', '', '별빛이 내려오지 마구', '내려오지', '경고', '경고', '그래도 처박힐 Meteor야', '', '', '영 영 영원히', '약속해 영원하기로', '어둠 가득한 저 뒤로', '돌려보내지 말아요 제발 제발', '영 영 영원히', '난 영원할 거라 믿어', '흥분으로 가득차', '이 도시에 나 외칠 꺼야', '“드디어 내가 여 왔다”']\n"
     ]
    }
   ],
   "source": [
    "multi_str_split = multi_str.splitlines()\n",
    "print(multi_str_split)"
   ]
  },
  {
   "cell_type": "code",
   "execution_count": 91,
   "metadata": {},
   "outputs": [
    {
     "name": "stdout",
     "output_type": "stream",
     "text": [
      "['Yeah, ha', 'Yeah, ha', 'Snacky chan의 라인을 빌릴래', '한 톤만큼 쌓고 스물한살에 독립했던 얘는', '노트를 덮고', '', '거대 Meteor', '경고', 'motown의 1번 노랠 기억해 니들?', '힘들 때면 홀로 쓴 노래를 불러', '숙취 땜에 넋을 놓은 나를 향해', '상관없어 환상이던 현실이던지 hands up high', '저 괴물체는 뭘까?', '별빛이 내려오지 마구', '', '돌려보내지 말아요 제발 제발', '“드디어 내가 여 왔다”']\n"
     ]
    }
   ],
   "source": [
    "guard = multi_str_split[::5]\n",
    "print(guard)"
   ]
  },
  {
   "cell_type": "markdown",
   "metadata": {},
   "source": [
    "### replace 메서드 \n",
    "### 대채하고싶은 문자or 문자열을 찾아 대체함"
   ]
  },
  {
   "cell_type": "code",
   "execution_count": 94,
   "metadata": {},
   "outputs": [
    {
     "name": "stdout",
     "output_type": "stream",
     "text": [
      "[' ha', ' ha', ' ha', '', '모두 그에게 말해 또 왔네 (새꺄 whut?)', 'Snacky chan의 라인을 빌릴래', '031 팔 안쪽의 tatt freaky woah', '어수룩해 엄마 속에 걱정', '여섯이 되었고', '“정말 스타 되고 싶어', '노트를 덮고', '저 손목이 너무 부러워', '', '전국', '저 괴물체는 뭘까?', '거대 Meteor', '', '내려오지', '경고', '', 'motown의 1번 노랠 기억해 니들?', 'i’m the man in the mirror 그러니 light me up', '그래 모두 나였지 실화가 된 동화이지', '환상들을 보던 성냥팔이 소년이였던 나날들이', '1095 아 그만 세자 1400이 되니 oh', '숙취 땜에 넋을 놓은 나를 향해', '본 적은 없지만 때론', '그냥 그런 느낌이 들지', '', '전국', '저 괴물체는 뭘까?', '거대 Meteor', '', '내려오지', '경고', '', '영 영 영원히', '어둠 가득한 저 뒤로', '영 영 영원히', '흥분으로 가득차', '“드디어 내가 여 왔다”']\n"
     ]
    }
   ],
   "source": [
    "guard = multi_str.replace(\"Yeah,\",\"\").splitlines()[::2]\n",
    "print(guard)"
   ]
  },
  {
   "cell_type": "code",
   "execution_count": null,
   "metadata": {},
   "outputs": [],
   "source": []
  }
 ],
 "metadata": {
  "kernelspec": {
   "display_name": "Python 3",
   "language": "python",
   "name": "python3"
  },
  "language_info": {
   "codemirror_mode": {
    "name": "ipython",
    "version": 3
   },
   "file_extension": ".py",
   "mimetype": "text/x-python",
   "name": "python",
   "nbconvert_exporter": "python",
   "pygments_lexer": "ipython3",
   "version": "3.7.4"
  }
 },
 "nbformat": 4,
 "nbformat_minor": 2
}
