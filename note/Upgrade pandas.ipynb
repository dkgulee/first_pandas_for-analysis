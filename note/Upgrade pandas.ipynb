{
 "cells": [
  {
   "cell_type": "markdown",
   "metadata": {},
   "source": [
    "## 성능 향상시키기 - cython, numba 라이브러리\n",
    "\n",
    "### 프로그램을 만들 때는 우선 원하는 기능이 잘 동작하는 코드를 작성해야 합니다. 그런 다음 좀더 효율적으로 프로그램이 실행될 수 있도록 코드를 최척화해야 한다. cython, numba 라이브러리"
   ]
  },
  {
   "cell_type": "markdown",
   "metadata": {},
   "source": [
    "## 코드 성능 향상시켜 실행 시간 측정하기 -timeit"
   ]
  },
  {
   "cell_type": "code",
   "execution_count": 1,
   "metadata": {},
   "outputs": [],
   "source": [
    "import pandas as pd\n",
    "import numpy as np\n",
    "\n",
    "df = pd.DataFrame({'a' : [10, 20, 30], 'b': [20, 30, 40]})\n",
    "\n",
    "def avg_2_apply(row):\n",
    "    x = row[0]\n",
    "    y = row[0]\n",
    "    if (x == 20):\n",
    "        return np.nan\n",
    "    else:\n",
    "        return (x + y) /2"
   ]
  },
  {
   "cell_type": "markdown",
   "metadata": {},
   "source": [
    "## 판다스 데이터프레임- 실행 시간 측정\n",
    "\n",
    "### 1 마이크로초는 1초를 100만으로 나눈 값"
   ]
  },
  {
   "cell_type": "code",
   "execution_count": 2,
   "metadata": {},
   "outputs": [
    {
     "name": "stdout",
     "output_type": "stream",
     "text": [
      "571 µs ± 5.8 µs per loop (mean ± std. dev. of 7 runs, 1000 loops each)\n"
     ]
    }
   ],
   "source": [
    "%%timeit\n",
    "df.apply(avg_2_apply , axis =1)"
   ]
  },
  {
   "cell_type": "markdown",
   "metadata": {},
   "source": [
    "## 넘파이로 벡터화한 함수 사용하기 - 실생 시간 측정\n",
    "### 1나노초는 1마이크로초를 1,000으로 나눈 값이다"
   ]
  },
  {
   "cell_type": "code",
   "execution_count": 3,
   "metadata": {},
   "outputs": [],
   "source": [
    "@np.vectorize\n",
    "def v_avg_2_mod(x,y):\n",
    "    if(x == 20):\n",
    "        return(np.NaN)\n",
    "    else:\n",
    "        return (x + y)/2"
   ]
  },
  {
   "cell_type": "code",
   "execution_count": 4,
   "metadata": {},
   "outputs": [
    {
     "name": "stdout",
     "output_type": "stream",
     "text": [
      "111 µs ± 12.8 µs per loop (mean ± std. dev. of 7 runs, 10000 loops each)\n"
     ]
    }
   ],
   "source": [
    "%%timeit\n",
    "v_avg_2_mod(df['a'], df['b'])"
   ]
  },
  {
   "cell_type": "markdown",
   "metadata": {},
   "source": [
    "## numba 라이브러리로 벡터화한 함수 사용하기 - 실행 시간 측정"
   ]
  },
  {
   "cell_type": "code",
   "execution_count": 5,
   "metadata": {},
   "outputs": [],
   "source": [
    "import numba\n",
    "\n",
    "@numba.vectorize\n",
    "def v_avg_2_numba(x, y):\n",
    "    if(int(x) == 20):\n",
    "        return(np.NaN)\n",
    "    else:\n",
    "        return(x+y)/2"
   ]
  },
  {
   "cell_type": "code",
   "execution_count": 7,
   "metadata": {},
   "outputs": [
    {
     "name": "stdout",
     "output_type": "stream",
     "text": [
      "The slowest run took 8.49 times longer than the fastest. This could mean that an intermediate result is being cached.\n",
      "10.6 µs ± 12.7 µs per loop (mean ± std. dev. of 7 runs, 1 loop each)\n"
     ]
    }
   ],
   "source": [
    "%%timeit\n",
    "v_avg_2_numba(df['a'].values, df['b'].values)"
   ]
  },
  {
   "cell_type": "markdown",
   "metadata": {},
   "source": [
    "### 반복 실행 횟수는 점점 늘어났지만 실행 시간은 획기적으로 줄어들었다. 즉 함수를 최적화하면 프로그램의 성능이 향상된다! numba 라이브러리로 벡터화한 함수가 가장 빠른 연산 속도를 보여줌!"
   ]
  },
  {
   "cell_type": "markdown",
   "metadata": {},
   "source": [
    "# 파이써 콘퍼런스 \n",
    "콘퍼런스 참석하면 최신 기술 동향을 파악할 수 잇다. 책이나 동영상 강의를 보는것과 다르게 현장을 피부로 느낄 수 있다는 점도 콘퍼런스의 큰 매력입니다. 또 콘퍼런스에서는 새로운 사람도 만날 수 잇다. 그리고 많은 콘퍼런스는 현장에서 코딩하며 라이브러리에 기여 할 수 있는 스프린트 데이(Sprint Day)라는 소모임도 진행함!!"
   ]
  },
  {
   "cell_type": "markdown",
   "metadata": {},
   "source": [
    "## 파이콘\n",
    "파이콘은 규모가 큰 파이썬 콘퍼런스 중 하나이다 \n",
    "파이콘 코리야 \n",
    "### https://www.youtube.com/channel/UC26x6D5xpKx6io4ShfXa_Ow"
   ]
  },
  {
   "cell_type": "markdown",
   "metadata": {},
   "source": [
    "# 사이파이, 유로 사이파이!"
   ]
  },
  {
   "cell_type": "code",
   "execution_count": null,
   "metadata": {},
   "outputs": [],
   "source": []
  }
 ],
 "metadata": {
  "kernelspec": {
   "display_name": "Python 3",
   "language": "python",
   "name": "python3"
  },
  "language_info": {
   "codemirror_mode": {
    "name": "ipython",
    "version": 3
   },
   "file_extension": ".py",
   "mimetype": "text/x-python",
   "name": "python",
   "nbconvert_exporter": "python",
   "pygments_lexer": "ipython3",
   "version": "3.7.4"
  }
 },
 "nbformat": 4,
 "nbformat_minor": 2
}
